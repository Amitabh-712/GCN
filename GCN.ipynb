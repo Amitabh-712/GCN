{
  "cells": [
    {
      "cell_type": "code",
      "execution_count": null,
      "metadata": {
        "id": "08KPi9yP-nxI"
      },
      "outputs": [],
      "source": [
        "# Amitabh S Mishra"
      ]
    },
    {
      "cell_type": "code",
      "execution_count": null,
      "metadata": {
        "colab": {
          "base_uri": "https://localhost:8080/"
        },
        "id": "FJSsA7e8-xdK",
        "outputId": "61ed19b3-fbf8-427a-d206-ced090c12af5"
      },
      "outputs": [
        {
          "output_type": "stream",
          "name": "stdout",
          "text": [
            "Reading package lists... Done\n",
            "Building dependency tree       \n",
            "Reading state information... Done\n",
            "subversion is already the newest version (1.9.7-4ubuntu1.1).\n",
            "The following package was automatically installed and is no longer required:\n",
            "  libnvidia-common-460\n",
            "Use 'apt autoremove' to remove it.\n",
            "0 upgraded, 0 newly installed, 0 to remove and 11 not upgraded.\n",
            "svn: E155000: Destination directory exists; please remove the directory or use --force to overwrite\n",
            "svn: E155000: 'cora' already exists\n"
          ]
        }
      ],
      "source": [
        "# Download Dataset\n",
        "!apt install subversion\n",
        "!svn export https://github.com/pransin/gcn/trunk/data/cora"
      ]
    },
    {
      "cell_type": "code",
      "execution_count": null,
      "metadata": {
        "id": "n11bb_APEIsJ"
      },
      "outputs": [],
      "source": [
        "import os\n",
        "import pandas as pd\n",
        "import numpy as np\n",
        "import torch\n",
        "import torch.nn as nn\n",
        "import torch.nn.functional as F \n",
        "from torch.nn.parameter import Parameter\n",
        "from tqdm.notebook import tqdm\n",
        "from scipy.linalg import sqrtm \n",
        "import scipy.sparse as sp\n"
      ]
    },
    {
      "cell_type": "code",
      "execution_count": null,
      "metadata": {
        "colab": {
          "base_uri": "https://localhost:8080/"
        },
        "id": "jny41r9XHOzq",
        "outputId": "c31d4c30-a603-47b6-ca1e-e0bdd69cde0b"
      },
      "outputs": [
        {
          "output_type": "execute_result",
          "data": {
            "text/plain": [
              "<torch._C.Generator at 0x7efdb0fadbf0>"
            ]
          },
          "metadata": {},
          "execution_count": 4
        }
      ],
      "source": [
        "np.random.seed(42)\n",
        "torch.manual_seed(42)"
      ]
    },
    {
      "cell_type": "code",
      "execution_count": null,
      "metadata": {
        "colab": {
          "base_uri": "https://localhost:8080/"
        },
        "id": "F7Slsm5_CaZR",
        "outputId": "bce0fdf8-d1ab-4651-95fa-8e9d8ea6a2f7"
      },
      "outputs": [
        {
          "output_type": "stream",
          "name": "stdout",
          "text": [
            "Neural_Networks           818\n",
            "Probabilistic_Methods     426\n",
            "Genetic_Algorithms        418\n",
            "Theory                    351\n",
            "Case_Based                298\n",
            "Reinforcement_Learning    217\n",
            "Rule_Learning             180\n",
            "Name: subject, dtype: int64\n"
          ]
        }
      ],
      "source": [
        "# Open dataset\n",
        "data_dir = os.path.join('.', \"cora\")\n",
        "citations = pd.read_csv(\n",
        "    os.path.join(data_dir, \"cora.cites\"),\n",
        "    sep=\"\\t\",\n",
        "    header=None,\n",
        "    names=[\"target\", \"source\"],\n",
        ")\n",
        "papers = pd.read_csv(\n",
        "    os.path.join(data_dir, \"cora.content\"),\n",
        "    sep=\"\\t\",\n",
        "    header=None,\n",
        "    names=[\"paper_id\"] + [f\"term_{idx}\" for idx in range(1433)] + [\"subject\"],\n",
        ")\n",
        "\n",
        "print(papers.subject.value_counts())"
      ]
    },
    {
      "cell_type": "code",
      "execution_count": null,
      "metadata": {
        "id": "9Vks2cng8Jfj",
        "colab": {
          "base_uri": "https://localhost:8080/",
          "height": 424
        },
        "outputId": "34431e44-4784-48dc-ce36-83b8fbe49ea7"
      },
      "outputs": [
        {
          "output_type": "execute_result",
          "data": {
            "text/plain": [
              "      target   source\n",
              "0         35     1033\n",
              "1         35   103482\n",
              "2         35   103515\n",
              "3         35  1050679\n",
              "4         35  1103960\n",
              "...      ...      ...\n",
              "5424  853116    19621\n",
              "5425  853116   853155\n",
              "5426  853118  1140289\n",
              "5427  853155   853118\n",
              "5428  954315  1155073\n",
              "\n",
              "[5429 rows x 2 columns]"
            ],
            "text/html": [
              "\n",
              "  <div id=\"df-e81a710a-d830-4924-9fb9-8b05c7bdbfd4\">\n",
              "    <div class=\"colab-df-container\">\n",
              "      <div>\n",
              "<style scoped>\n",
              "    .dataframe tbody tr th:only-of-type {\n",
              "        vertical-align: middle;\n",
              "    }\n",
              "\n",
              "    .dataframe tbody tr th {\n",
              "        vertical-align: top;\n",
              "    }\n",
              "\n",
              "    .dataframe thead th {\n",
              "        text-align: right;\n",
              "    }\n",
              "</style>\n",
              "<table border=\"1\" class=\"dataframe\">\n",
              "  <thead>\n",
              "    <tr style=\"text-align: right;\">\n",
              "      <th></th>\n",
              "      <th>target</th>\n",
              "      <th>source</th>\n",
              "    </tr>\n",
              "  </thead>\n",
              "  <tbody>\n",
              "    <tr>\n",
              "      <th>0</th>\n",
              "      <td>35</td>\n",
              "      <td>1033</td>\n",
              "    </tr>\n",
              "    <tr>\n",
              "      <th>1</th>\n",
              "      <td>35</td>\n",
              "      <td>103482</td>\n",
              "    </tr>\n",
              "    <tr>\n",
              "      <th>2</th>\n",
              "      <td>35</td>\n",
              "      <td>103515</td>\n",
              "    </tr>\n",
              "    <tr>\n",
              "      <th>3</th>\n",
              "      <td>35</td>\n",
              "      <td>1050679</td>\n",
              "    </tr>\n",
              "    <tr>\n",
              "      <th>4</th>\n",
              "      <td>35</td>\n",
              "      <td>1103960</td>\n",
              "    </tr>\n",
              "    <tr>\n",
              "      <th>...</th>\n",
              "      <td>...</td>\n",
              "      <td>...</td>\n",
              "    </tr>\n",
              "    <tr>\n",
              "      <th>5424</th>\n",
              "      <td>853116</td>\n",
              "      <td>19621</td>\n",
              "    </tr>\n",
              "    <tr>\n",
              "      <th>5425</th>\n",
              "      <td>853116</td>\n",
              "      <td>853155</td>\n",
              "    </tr>\n",
              "    <tr>\n",
              "      <th>5426</th>\n",
              "      <td>853118</td>\n",
              "      <td>1140289</td>\n",
              "    </tr>\n",
              "    <tr>\n",
              "      <th>5427</th>\n",
              "      <td>853155</td>\n",
              "      <td>853118</td>\n",
              "    </tr>\n",
              "    <tr>\n",
              "      <th>5428</th>\n",
              "      <td>954315</td>\n",
              "      <td>1155073</td>\n",
              "    </tr>\n",
              "  </tbody>\n",
              "</table>\n",
              "<p>5429 rows × 2 columns</p>\n",
              "</div>\n",
              "      <button class=\"colab-df-convert\" onclick=\"convertToInteractive('df-e81a710a-d830-4924-9fb9-8b05c7bdbfd4')\"\n",
              "              title=\"Convert this dataframe to an interactive table.\"\n",
              "              style=\"display:none;\">\n",
              "        \n",
              "  <svg xmlns=\"http://www.w3.org/2000/svg\" height=\"24px\"viewBox=\"0 0 24 24\"\n",
              "       width=\"24px\">\n",
              "    <path d=\"M0 0h24v24H0V0z\" fill=\"none\"/>\n",
              "    <path d=\"M18.56 5.44l.94 2.06.94-2.06 2.06-.94-2.06-.94-.94-2.06-.94 2.06-2.06.94zm-11 1L8.5 8.5l.94-2.06 2.06-.94-2.06-.94L8.5 2.5l-.94 2.06-2.06.94zm10 10l.94 2.06.94-2.06 2.06-.94-2.06-.94-.94-2.06-.94 2.06-2.06.94z\"/><path d=\"M17.41 7.96l-1.37-1.37c-.4-.4-.92-.59-1.43-.59-.52 0-1.04.2-1.43.59L10.3 9.45l-7.72 7.72c-.78.78-.78 2.05 0 2.83L4 21.41c.39.39.9.59 1.41.59.51 0 1.02-.2 1.41-.59l7.78-7.78 2.81-2.81c.8-.78.8-2.07 0-2.86zM5.41 20L4 18.59l7.72-7.72 1.47 1.35L5.41 20z\"/>\n",
              "  </svg>\n",
              "      </button>\n",
              "      \n",
              "  <style>\n",
              "    .colab-df-container {\n",
              "      display:flex;\n",
              "      flex-wrap:wrap;\n",
              "      gap: 12px;\n",
              "    }\n",
              "\n",
              "    .colab-df-convert {\n",
              "      background-color: #E8F0FE;\n",
              "      border: none;\n",
              "      border-radius: 50%;\n",
              "      cursor: pointer;\n",
              "      display: none;\n",
              "      fill: #1967D2;\n",
              "      height: 32px;\n",
              "      padding: 0 0 0 0;\n",
              "      width: 32px;\n",
              "    }\n",
              "\n",
              "    .colab-df-convert:hover {\n",
              "      background-color: #E2EBFA;\n",
              "      box-shadow: 0px 1px 2px rgba(60, 64, 67, 0.3), 0px 1px 3px 1px rgba(60, 64, 67, 0.15);\n",
              "      fill: #174EA6;\n",
              "    }\n",
              "\n",
              "    [theme=dark] .colab-df-convert {\n",
              "      background-color: #3B4455;\n",
              "      fill: #D2E3FC;\n",
              "    }\n",
              "\n",
              "    [theme=dark] .colab-df-convert:hover {\n",
              "      background-color: #434B5C;\n",
              "      box-shadow: 0px 1px 3px 1px rgba(0, 0, 0, 0.15);\n",
              "      filter: drop-shadow(0px 1px 2px rgba(0, 0, 0, 0.3));\n",
              "      fill: #FFFFFF;\n",
              "    }\n",
              "  </style>\n",
              "\n",
              "      <script>\n",
              "        const buttonEl =\n",
              "          document.querySelector('#df-e81a710a-d830-4924-9fb9-8b05c7bdbfd4 button.colab-df-convert');\n",
              "        buttonEl.style.display =\n",
              "          google.colab.kernel.accessAllowed ? 'block' : 'none';\n",
              "\n",
              "        async function convertToInteractive(key) {\n",
              "          const element = document.querySelector('#df-e81a710a-d830-4924-9fb9-8b05c7bdbfd4');\n",
              "          const dataTable =\n",
              "            await google.colab.kernel.invokeFunction('convertToInteractive',\n",
              "                                                     [key], {});\n",
              "          if (!dataTable) return;\n",
              "\n",
              "          const docLinkHtml = 'Like what you see? Visit the ' +\n",
              "            '<a target=\"_blank\" href=https://colab.research.google.com/notebooks/data_table.ipynb>data table notebook</a>'\n",
              "            + ' to learn more about interactive tables.';\n",
              "          element.innerHTML = '';\n",
              "          dataTable['output_type'] = 'display_data';\n",
              "          await google.colab.output.renderOutput(dataTable, element);\n",
              "          const docLink = document.createElement('div');\n",
              "          docLink.innerHTML = docLinkHtml;\n",
              "          element.appendChild(docLink);\n",
              "        }\n",
              "      </script>\n",
              "    </div>\n",
              "  </div>\n",
              "  "
            ]
          },
          "metadata": {},
          "execution_count": 6
        }
      ],
      "source": [
        "citations\n",
        "#papers"
      ]
    },
    {
      "cell_type": "markdown",
      "source": [
        "## Train test split\n"
      ],
      "metadata": {
        "id": "coC6DQNQyYw1"
      }
    },
    {
      "cell_type": "code",
      "execution_count": null,
      "metadata": {
        "id": "EUTYCWasKmbO"
      },
      "outputs": [],
      "source": [
        "node_id = papers[\"paper_id\"].to_numpy()\n",
        "#node_id\n",
        "temp_d = dict(enumerate(node_id))\n",
        "id_node = {v: k for k, v in temp_d.items()}\n",
        " #id_node  # Now we have paper_id to node index mapping"
      ]
    },
    {
      "cell_type": "code",
      "source": [
        "id_subjects = papers[['subject']]\n",
        "print(id_subjects)\n",
        "id_subjects.insert(loc=0,column='nodes',value=range(0,len(id_subjects)))\n",
        "node_sub = id_subjects\n",
        "classes = node_sub['subject'].unique()\n",
        "sub_indices = {}\n",
        "for label in classes:\n",
        "  sub_indices[label] = node_sub.loc[node_sub.subject==label,'nodes'].values"
      ],
      "metadata": {
        "id": "_O0DPxgWycni",
        "colab": {
          "base_uri": "https://localhost:8080/"
        },
        "outputId": "d3cf6cc9-6eb3-48b1-ae07-24dd272203ef"
      },
      "execution_count": null,
      "outputs": [
        {
          "output_type": "stream",
          "name": "stdout",
          "text": [
            "                     subject\n",
            "0            Neural_Networks\n",
            "1              Rule_Learning\n",
            "2     Reinforcement_Learning\n",
            "3     Reinforcement_Learning\n",
            "4      Probabilistic_Methods\n",
            "...                      ...\n",
            "2703      Genetic_Algorithms\n",
            "2704      Genetic_Algorithms\n",
            "2705      Genetic_Algorithms\n",
            "2706              Case_Based\n",
            "2707         Neural_Networks\n",
            "\n",
            "[2708 rows x 1 columns]\n"
          ]
        }
      ]
    },
    {
      "cell_type": "code",
      "source": [
        "train_indices = {}\n",
        "for l in classes:\n",
        "  train_indices[l] = np.random.choice(sub_indices[l],size=15, replace=False)\n",
        "# len(train_indices)\n",
        "train_indices"
      ],
      "metadata": {
        "colab": {
          "base_uri": "https://localhost:8080/"
        },
        "id": "EH8GDvz0-2wh",
        "outputId": "23d1d6ac-2d3c-4758-c6eb-1cb245918936"
      },
      "execution_count": null,
      "outputs": [
        {
          "output_type": "execute_result",
          "data": {
            "text/plain": [
              "{'Neural_Networks': array([ 263, 1373, 2631, 1612, 2671, 1751, 1947, 2540,  589, 1766,  207,\n",
              "        1246, 2247,  625, 1606]),\n",
              " 'Rule_Learning': array([ 196, 2240, 1596,  417, 2070, 2009, 1881, 1963, 1256, 1578, 2539,\n",
              "        1180, 2300, 1620, 2441]),\n",
              " 'Reinforcement_Learning': array([1616,  410,  738,  551, 2408,   21,  425, 1589,  882, 2494,  565,\n",
              "         621,  492,  466,   16]),\n",
              " 'Probabilistic_Methods': array([ 161,  646, 2366, 1503, 1241,  704, 1759, 2348, 1995, 1133,  584,\n",
              "         108, 2693, 2428,    4]),\n",
              " 'Theory': array([ 555, 2342,  114,  859, 1173, 1647, 1199, 1521, 2346, 2080, 1280,\n",
              "         251,   89,  887, 1833]),\n",
              " 'Genetic_Algorithms': array([ 728,  934, 1880, 2521, 1333, 1311,  422,  856, 1404, 2130,  972,\n",
              "         546, 1740, 2563, 1216]),\n",
              " 'Case_Based': array([1989,  818,  951, 2289,  670,  983,  984,  285,  690, 1348,  947,\n",
              "        1531,  679, 1805,  634])}"
            ]
          },
          "metadata": {},
          "execution_count": 9
        }
      ]
    },
    {
      "cell_type": "code",
      "source": [
        "# train_arr = np.empty((1,))\n",
        "train_arr = np.concatenate([train_indices[l] for l in classes],axis=0)\n",
        "train_arr.shape\n",
        "train_arr"
      ],
      "metadata": {
        "colab": {
          "base_uri": "https://localhost:8080/"
        },
        "id": "NySgsN1XIwNU",
        "outputId": "151d0830-9ba9-43f0-da75-8a9e14ee0651"
      },
      "execution_count": null,
      "outputs": [
        {
          "output_type": "execute_result",
          "data": {
            "text/plain": [
              "array([ 263, 1373, 2631, 1612, 2671, 1751, 1947, 2540,  589, 1766,  207,\n",
              "       1246, 2247,  625, 1606,  196, 2240, 1596,  417, 2070, 2009, 1881,\n",
              "       1963, 1256, 1578, 2539, 1180, 2300, 1620, 2441, 1616,  410,  738,\n",
              "        551, 2408,   21,  425, 1589,  882, 2494,  565,  621,  492,  466,\n",
              "         16,  161,  646, 2366, 1503, 1241,  704, 1759, 2348, 1995, 1133,\n",
              "        584,  108, 2693, 2428,    4,  555, 2342,  114,  859, 1173, 1647,\n",
              "       1199, 1521, 2346, 2080, 1280,  251,   89,  887, 1833,  728,  934,\n",
              "       1880, 2521, 1333, 1311,  422,  856, 1404, 2130,  972,  546, 1740,\n",
              "       2563, 1216, 1989,  818,  951, 2289,  670,  983,  984,  285,  690,\n",
              "       1348,  947, 1531,  679, 1805,  634])"
            ]
          },
          "metadata": {},
          "execution_count": 10
        }
      ]
    },
    {
      "cell_type": "code",
      "source": [
        "excl_train = []  #This will have all indices except the ones already selected in training set\n",
        "\n",
        "for ele in range(2708):\n",
        "  if ele not in train_arr:\n",
        "    excl_train.append(ele)"
      ],
      "metadata": {
        "id": "Ej4UVQE54_q-"
      },
      "execution_count": null,
      "outputs": []
    },
    {
      "cell_type": "code",
      "source": [
        "# Now choose random 1000 from excl_train for test\n",
        "rand_arr = np.random.choice(np.array(excl_train),size=1535, replace=False)\n",
        "val_arr = rand_arr[:1535]\n",
        "# test_arr = rand_arr[500:1500]"
      ],
      "metadata": {
        "id": "pmg4M2JwZZyM"
      },
      "execution_count": null,
      "outputs": []
    },
    {
      "cell_type": "markdown",
      "source": [
        "### Getting A_hat"
      ],
      "metadata": {
        "id": "2qtNVq54dA5Q"
      }
    },
    {
      "cell_type": "code",
      "execution_count": null,
      "metadata": {
        "id": "9mMcq05n_zsB"
      },
      "outputs": [],
      "source": [
        "# For full adjacency matrix:\n",
        "At = np.eye(papers.shape[0], dtype=float)  #At is A~ here self loop\n",
        "for ind in citations.index: \n",
        "  i = id_node[citations['target'][ind]]\n",
        "  j = id_node[citations['source'][ind]]\n",
        "  At[i][j] = At[j][i] = 1"
      ]
    },
    {
      "cell_type": "code",
      "source": [
        "n1 = id_node[35]\n",
        "n2 = id_node[1033]\n",
        "# A[n1][n2], A[n2][n1]\n",
        "At.shape"
      ],
      "metadata": {
        "id": "WLgVJNUUZ6Tq",
        "colab": {
          "base_uri": "https://localhost:8080/"
        },
        "outputId": "9ce9bdc9-0f9c-41db-aa3e-3d12f1942fc5"
      },
      "execution_count": null,
      "outputs": [
        {
          "output_type": "execute_result",
          "data": {
            "text/plain": [
              "(2708, 2708)"
            ]
          },
          "metadata": {},
          "execution_count": 14
        }
      ]
    },
    {
      "cell_type": "code",
      "source": [
        "# now get A hat\n",
        "D = np.zeros_like(At)\n",
        "np.fill_diagonal(D, np.asarray(At.sum(axis=1)).flatten())\n",
        "\n",
        "D_invroot = np.linalg.inv(sqrtm(D))\n",
        "\n",
        "A_hat = D_invroot @ At @ D_invroot\n",
        "# A_hat"
      ],
      "metadata": {
        "id": "Pv4sVMV-b7Ev"
      },
      "execution_count": null,
      "outputs": []
    },
    {
      "cell_type": "markdown",
      "source": [
        "## Getting H"
      ],
      "metadata": {
        "id": "aAitLNARgZoN"
      }
    },
    {
      "cell_type": "code",
      "source": [
        "H = papers.loc[:, ~papers.columns.isin(['paper_id', 'subject'])].to_numpy()\n",
        "\n",
        "\"\"\"Row-normalize sparse matrix\"\"\"\n",
        "rowsum = np.sum(H,axis=1)\n",
        "rowsum = rowsum.astype(float)\n",
        "r_inv = np.power(rowsum, -1).flatten()\n",
        "r_inv[np.isinf(r_inv)] = 0.\n",
        "r_mat_inv = sp.diags(r_inv)\n",
        "H = r_mat_inv.dot(H)\n",
        "\n",
        "np.sum(H) #ans should be 2708\n",
        "# np.sum(H,axis=0)\n",
        "# np.sum(H,axis=1).shape"
      ],
      "metadata": {
        "id": "5782AY5Gc8Ou",
        "colab": {
          "base_uri": "https://localhost:8080/"
        },
        "outputId": "56c6cbb8-7a25-4c83-8509-fb827eda0219"
      },
      "execution_count": null,
      "outputs": [
        {
          "output_type": "execute_result",
          "data": {
            "text/plain": [
              "2707.9999999999995"
            ]
          },
          "metadata": {},
          "execution_count": 16
        }
      ]
    },
    {
      "cell_type": "code",
      "source": [
        "A_hat.shape, H.shape"
      ],
      "metadata": {
        "id": "6Ca5Isp7l1qQ",
        "colab": {
          "base_uri": "https://localhost:8080/"
        },
        "outputId": "4ba15db9-8a38-43b6-9c74-e037ff386b3b"
      },
      "execution_count": null,
      "outputs": [
        {
          "output_type": "execute_result",
          "data": {
            "text/plain": [
              "((2708, 2708), (2708, 1433))"
            ]
          },
          "metadata": {},
          "execution_count": 17
        }
      ]
    },
    {
      "cell_type": "code",
      "source": [
        "H = torch.FloatTensor(H)\n",
        "A_hat = torch.FloatTensor(A_hat)"
      ],
      "metadata": {
        "id": "kYjZ2e14unb2"
      },
      "execution_count": null,
      "outputs": []
    },
    {
      "cell_type": "markdown",
      "source": [
        "## Get labels for each node"
      ],
      "metadata": {
        "id": "mUisJBdIq7y6"
      }
    },
    {
      "cell_type": "code",
      "source": [
        "labels = papers[\"subject\"]\n",
        "classes = set(labels)\n",
        "classes = {label: idx for idx, label in enumerate(classes)}\n",
        "labels = [classes[label] for label in labels]\n",
        "labels = torch.LongTensor(labels)\n",
        "labels"
      ],
      "metadata": {
        "id": "TnG_UmT2rPKZ",
        "colab": {
          "base_uri": "https://localhost:8080/"
        },
        "outputId": "e886a771-713e-4dec-8c63-b107e61d352a"
      },
      "execution_count": null,
      "outputs": [
        {
          "output_type": "execute_result",
          "data": {
            "text/plain": [
              "tensor([3, 0, 4,  ..., 2, 1, 3])"
            ]
          },
          "metadata": {},
          "execution_count": 19
        }
      ]
    },
    {
      "cell_type": "markdown",
      "source": [
        "## GCN Layer"
      ],
      "metadata": {
        "id": "I38VuOsWgc3L"
      }
    },
    {
      "cell_type": "code",
      "execution_count": null,
      "metadata": {
        "id": "AS52VUNevbrK"
      },
      "outputs": [],
      "source": [
        "class GCNLayer(nn.Module):\n",
        "  def __init__(self, in_features, out_features):\n",
        "    super().__init__()\n",
        "    self.in_features = in_features\n",
        "    self.out_features = out_features\n",
        "    self.weight = Parameter(torch.FloatTensor(in_features, out_features))\n",
        "    self.register_parameter('bias', None)\n",
        "    nn.init.xavier_uniform_(self.weight)\n",
        "    # self.layer = nn.Linear(in_features, out_features)\n",
        "\n",
        "  \n",
        "  def forward(self, H, A_hat):\n",
        "      tes = (A_hat @ H)\n",
        "      return tes @ self.weight \n",
        "  \n",
        "\n",
        "    "
      ]
    },
    {
      "cell_type": "code",
      "execution_count": null,
      "metadata": {
        "id": "ZPJpoXyCEWCq"
      },
      "outputs": [],
      "source": [
        "class GCN(nn.Module):\n",
        "  def __init__(self, nfeat, nhid, nclass, dropout=0):\n",
        "    super().__init__()\n",
        "    self.gc1 = GCNLayer(nfeat, nhid)\n",
        "    self.gc2 = GCNLayer(nhid, nclass)\n",
        "    self.dropout = dropout\n",
        "    # Model goes here\n",
        "  \n",
        "  def forward(self, x, A_hat):\n",
        "    x = F.relu(self.gc1(x, A_hat))\n",
        "    x = F.dropout(x, self.dropout, training=self.training)\n",
        "    x = self.gc2(x, A_hat)\n",
        "    return x"
      ]
    },
    {
      "cell_type": "code",
      "source": [
        "dropout = 0.5\n",
        "regularization = 0.0005\n",
        "learning_rate = 0.01\n",
        "early_stop_window = 10\n",
        "nhid = 16\n",
        "total_epochs = 200\n",
        "nclass = 7"
      ],
      "metadata": {
        "id": "TrKdHUIHbRhl"
      },
      "execution_count": null,
      "outputs": []
    },
    {
      "cell_type": "code",
      "source": [
        "# Random train-test split\n",
        "idx_train = train_arr\n",
        "idx_val = val_arr\n",
        "# idx_test = test_arr"
      ],
      "metadata": {
        "id": "f-Y_LIFFX7fe"
      },
      "execution_count": null,
      "outputs": []
    },
    {
      "cell_type": "code",
      "source": [
        "model = GCN(nfeat=H.shape[1],\n",
        "            nhid=nhid,\n",
        "            nclass=nclass,\n",
        "            dropout=dropout)\n",
        "loss_criterion = nn.CrossEntropyLoss()\n",
        "optimizer = torch.optim.Adam(model.parameters(), lr=learning_rate, weight_decay=regularization)"
      ],
      "metadata": {
        "id": "0GWOgTmQ08ib"
      },
      "execution_count": null,
      "outputs": []
    },
    {
      "cell_type": "code",
      "source": [
        "def accuracy(output, labels):\n",
        "    preds = output.max(1)[1].type_as(labels)\n",
        "    correct = preds.eq(labels).double()\n",
        "    correct = correct.sum()\n",
        "    return correct / len(labels)\n",
        "\n",
        "def evaluate(idx_val=idx_val):\n",
        "      model.eval()\n",
        "      prediction = model(H, A_hat)                          \n",
        "      loss_eval = loss_criterion(prediction[idx_val], labels[idx_val])                          \n",
        "      acc = accuracy(prediction[idx_val], labels[idx_val])\n",
        "      return loss_eval.item(), acc\n",
        "\n",
        "def train_step():\n",
        "      model.train()\n",
        "      prediction = model(H, A_hat)                          \n",
        "      loss = loss_criterion(prediction[idx_train], labels[idx_train])                               \n",
        "      acc = accuracy(prediction[idx_train], labels[idx_train])\n",
        "      return loss, acc"
      ],
      "metadata": {
        "id": "mSnlY_m5xbdS"
      },
      "execution_count": null,
      "outputs": []
    },
    {
      "cell_type": "code",
      "source": [
        "# Put the model into training mode. This activates the dropout and batchnorm layers for training\n",
        "\n",
        "acc_train = []\n",
        "acc_val = []\n",
        "loss_train = []\n",
        "loss_val = []\n",
        "no_improve = 0\n",
        "best_loss = 100\n",
        "for epoch in tqdm(range(1,total_epochs+1)):\n",
        "\n",
        "      loss, acc_t = train_step()\n",
        "      loss_eval, acc_eval = evaluate()\n",
        "      acc_train.append(acc_t)\n",
        "      acc_val.append(acc_eval)\n",
        "      loss_train.append(loss.item())\n",
        "      loss_val.append(loss_eval)\n",
        "\n",
        "      if(loss_eval < best_loss):\n",
        "        no_improve = 0\n",
        "        best_loss = loss_eval\n",
        "      else:\n",
        "        no_improve += 1\n",
        "\n",
        "      if no_improve == early_stop_window:\n",
        "        break\n",
        "\n",
        "      # 3. zero out the gradients and perform backpropagation through the network\n",
        "      optimizer.zero_grad()\n",
        "      loss.backward()\n",
        "\n",
        "      # 4. update the parameters\n",
        "      optimizer.step()\n",
        "\n",
        "      print(f\"Epoch: [{epoch}/{total_epochs}] Train Loss: {loss.item():.4f}, Train Accuracy: {acc_t:.4f}, Validation Loss: {loss_eval:.4f}\")"
      ],
      "metadata": {
        "id": "McWlMVxtdwgm",
        "colab": {
          "base_uri": "https://localhost:8080/",
          "height": 1000,
          "referenced_widgets": [
            "c9423bda79d046a58a26fcc2352715ef",
            "2e72427d7b86436eb2b66396cacdcea3",
            "e05709fc22744abab52c7d52e0525667",
            "89ca32580e6442b78502d6dace0bd9c6",
            "e937ba4053674c02b738d95071c79eeb",
            "0aa0aa34de0d4b56811b8b45627dff1a",
            "f74b661bbdd74ce1a0bc6c2f41791ed1",
            "4514c73e8d7244e9882046676cf313cc",
            "8dce2d98c20a4e46b95d3e89b760d7eb",
            "ed559e298be6405d97b036df97b6f47c",
            "0cbef38737e94ec28d7b378f4c01e6b3"
          ]
        },
        "outputId": "3afae89f-e67b-4769-9336-14745535513c"
      },
      "execution_count": null,
      "outputs": [
        {
          "output_type": "display_data",
          "data": {
            "text/plain": [
              "  0%|          | 0/200 [00:00<?, ?it/s]"
            ],
            "application/vnd.jupyter.widget-view+json": {
              "version_major": 2,
              "version_minor": 0,
              "model_id": "c9423bda79d046a58a26fcc2352715ef"
            }
          },
          "metadata": {}
        },
        {
          "output_type": "stream",
          "name": "stdout",
          "text": [
            "Epoch: [1/200] Train Loss: 1.9453, Train Accuracy: 0.1714, Validation Loss: 1.9457\n",
            "Epoch: [2/200] Train Loss: 1.9393, Train Accuracy: 0.3810, Validation Loss: 1.9429\n",
            "Epoch: [3/200] Train Loss: 1.9316, Train Accuracy: 0.4857, Validation Loss: 1.9396\n",
            "Epoch: [4/200] Train Loss: 1.9222, Train Accuracy: 0.4667, Validation Loss: 1.9356\n",
            "Epoch: [5/200] Train Loss: 1.9122, Train Accuracy: 0.4762, Validation Loss: 1.9312\n",
            "Epoch: [6/200] Train Loss: 1.9031, Train Accuracy: 0.5429, Validation Loss: 1.9267\n",
            "Epoch: [7/200] Train Loss: 1.8926, Train Accuracy: 0.5714, Validation Loss: 1.9217\n",
            "Epoch: [8/200] Train Loss: 1.8796, Train Accuracy: 0.5810, Validation Loss: 1.9165\n",
            "Epoch: [9/200] Train Loss: 1.8683, Train Accuracy: 0.5714, Validation Loss: 1.9112\n",
            "Epoch: [10/200] Train Loss: 1.8584, Train Accuracy: 0.5810, Validation Loss: 1.9056\n",
            "Epoch: [11/200] Train Loss: 1.8469, Train Accuracy: 0.6000, Validation Loss: 1.9000\n",
            "Epoch: [12/200] Train Loss: 1.8359, Train Accuracy: 0.6476, Validation Loss: 1.8942\n",
            "Epoch: [13/200] Train Loss: 1.8274, Train Accuracy: 0.6286, Validation Loss: 1.8882\n",
            "Epoch: [14/200] Train Loss: 1.8075, Train Accuracy: 0.6571, Validation Loss: 1.8819\n",
            "Epoch: [15/200] Train Loss: 1.7848, Train Accuracy: 0.6571, Validation Loss: 1.8752\n",
            "Epoch: [16/200] Train Loss: 1.7778, Train Accuracy: 0.6667, Validation Loss: 1.8684\n",
            "Epoch: [17/200] Train Loss: 1.7707, Train Accuracy: 0.6667, Validation Loss: 1.8615\n",
            "Epoch: [18/200] Train Loss: 1.7574, Train Accuracy: 0.6190, Validation Loss: 1.8544\n",
            "Epoch: [19/200] Train Loss: 1.7279, Train Accuracy: 0.6286, Validation Loss: 1.8470\n",
            "Epoch: [20/200] Train Loss: 1.7326, Train Accuracy: 0.6952, Validation Loss: 1.8394\n",
            "Epoch: [21/200] Train Loss: 1.7123, Train Accuracy: 0.6667, Validation Loss: 1.8314\n",
            "Epoch: [22/200] Train Loss: 1.6972, Train Accuracy: 0.6857, Validation Loss: 1.8232\n",
            "Epoch: [23/200] Train Loss: 1.6726, Train Accuracy: 0.7048, Validation Loss: 1.8148\n",
            "Epoch: [24/200] Train Loss: 1.6653, Train Accuracy: 0.7048, Validation Loss: 1.8061\n",
            "Epoch: [25/200] Train Loss: 1.6501, Train Accuracy: 0.7238, Validation Loss: 1.7972\n",
            "Epoch: [26/200] Train Loss: 1.6275, Train Accuracy: 0.7810, Validation Loss: 1.7882\n",
            "Epoch: [27/200] Train Loss: 1.6172, Train Accuracy: 0.7238, Validation Loss: 1.7789\n",
            "Epoch: [28/200] Train Loss: 1.5981, Train Accuracy: 0.7333, Validation Loss: 1.7696\n",
            "Epoch: [29/200] Train Loss: 1.5888, Train Accuracy: 0.7333, Validation Loss: 1.7599\n",
            "Epoch: [30/200] Train Loss: 1.5544, Train Accuracy: 0.7905, Validation Loss: 1.7500\n",
            "Epoch: [31/200] Train Loss: 1.5407, Train Accuracy: 0.7524, Validation Loss: 1.7398\n",
            "Epoch: [32/200] Train Loss: 1.5502, Train Accuracy: 0.7333, Validation Loss: 1.7294\n",
            "Epoch: [33/200] Train Loss: 1.5029, Train Accuracy: 0.7524, Validation Loss: 1.7186\n",
            "Epoch: [34/200] Train Loss: 1.4798, Train Accuracy: 0.7810, Validation Loss: 1.7079\n",
            "Epoch: [35/200] Train Loss: 1.4706, Train Accuracy: 0.8095, Validation Loss: 1.6971\n",
            "Epoch: [36/200] Train Loss: 1.4598, Train Accuracy: 0.8476, Validation Loss: 1.6862\n",
            "Epoch: [37/200] Train Loss: 1.4203, Train Accuracy: 0.8190, Validation Loss: 1.6747\n",
            "Epoch: [38/200] Train Loss: 1.4209, Train Accuracy: 0.8381, Validation Loss: 1.6633\n",
            "Epoch: [39/200] Train Loss: 1.4057, Train Accuracy: 0.7810, Validation Loss: 1.6518\n",
            "Epoch: [40/200] Train Loss: 1.3800, Train Accuracy: 0.8190, Validation Loss: 1.6403\n",
            "Epoch: [41/200] Train Loss: 1.3506, Train Accuracy: 0.8000, Validation Loss: 1.6287\n",
            "Epoch: [42/200] Train Loss: 1.3479, Train Accuracy: 0.8762, Validation Loss: 1.6171\n",
            "Epoch: [43/200] Train Loss: 1.3225, Train Accuracy: 0.8095, Validation Loss: 1.6056\n",
            "Epoch: [44/200] Train Loss: 1.3234, Train Accuracy: 0.8286, Validation Loss: 1.5939\n",
            "Epoch: [45/200] Train Loss: 1.2974, Train Accuracy: 0.8381, Validation Loss: 1.5819\n",
            "Epoch: [46/200] Train Loss: 1.2678, Train Accuracy: 0.8571, Validation Loss: 1.5701\n",
            "Epoch: [47/200] Train Loss: 1.2644, Train Accuracy: 0.8286, Validation Loss: 1.5580\n",
            "Epoch: [48/200] Train Loss: 1.2214, Train Accuracy: 0.8667, Validation Loss: 1.5457\n",
            "Epoch: [49/200] Train Loss: 1.2126, Train Accuracy: 0.8667, Validation Loss: 1.5335\n",
            "Epoch: [50/200] Train Loss: 1.2059, Train Accuracy: 0.8667, Validation Loss: 1.5209\n",
            "Epoch: [51/200] Train Loss: 1.1540, Train Accuracy: 0.8857, Validation Loss: 1.5085\n",
            "Epoch: [52/200] Train Loss: 1.1191, Train Accuracy: 0.9048, Validation Loss: 1.4963\n",
            "Epoch: [53/200] Train Loss: 1.1255, Train Accuracy: 0.9333, Validation Loss: 1.4840\n",
            "Epoch: [54/200] Train Loss: 1.1336, Train Accuracy: 0.8857, Validation Loss: 1.4718\n",
            "Epoch: [55/200] Train Loss: 1.1031, Train Accuracy: 0.8667, Validation Loss: 1.4597\n",
            "Epoch: [56/200] Train Loss: 1.0771, Train Accuracy: 0.9333, Validation Loss: 1.4477\n",
            "Epoch: [57/200] Train Loss: 1.0699, Train Accuracy: 0.9429, Validation Loss: 1.4360\n",
            "Epoch: [58/200] Train Loss: 1.0626, Train Accuracy: 0.9429, Validation Loss: 1.4245\n",
            "Epoch: [59/200] Train Loss: 1.0313, Train Accuracy: 0.9333, Validation Loss: 1.4133\n",
            "Epoch: [60/200] Train Loss: 1.0230, Train Accuracy: 0.8667, Validation Loss: 1.4021\n",
            "Epoch: [61/200] Train Loss: 1.0251, Train Accuracy: 0.9524, Validation Loss: 1.3907\n",
            "Epoch: [62/200] Train Loss: 1.0016, Train Accuracy: 0.9333, Validation Loss: 1.3794\n",
            "Epoch: [63/200] Train Loss: 0.9521, Train Accuracy: 0.9524, Validation Loss: 1.3683\n",
            "Epoch: [64/200] Train Loss: 0.9646, Train Accuracy: 0.9429, Validation Loss: 1.3572\n",
            "Epoch: [65/200] Train Loss: 0.9212, Train Accuracy: 0.9524, Validation Loss: 1.3466\n",
            "Epoch: [66/200] Train Loss: 0.9279, Train Accuracy: 0.9333, Validation Loss: 1.3361\n",
            "Epoch: [67/200] Train Loss: 0.9196, Train Accuracy: 0.9143, Validation Loss: 1.3259\n",
            "Epoch: [68/200] Train Loss: 0.9032, Train Accuracy: 0.9333, Validation Loss: 1.3157\n",
            "Epoch: [69/200] Train Loss: 0.8666, Train Accuracy: 0.9524, Validation Loss: 1.3058\n",
            "Epoch: [70/200] Train Loss: 0.8575, Train Accuracy: 0.9524, Validation Loss: 1.2961\n",
            "Epoch: [71/200] Train Loss: 0.8882, Train Accuracy: 0.9333, Validation Loss: 1.2868\n",
            "Epoch: [72/200] Train Loss: 0.8488, Train Accuracy: 0.9333, Validation Loss: 1.2783\n",
            "Epoch: [73/200] Train Loss: 0.8423, Train Accuracy: 0.9429, Validation Loss: 1.2696\n",
            "Epoch: [74/200] Train Loss: 0.8128, Train Accuracy: 0.9048, Validation Loss: 1.2609\n",
            "Epoch: [75/200] Train Loss: 0.7973, Train Accuracy: 0.9429, Validation Loss: 1.2522\n",
            "Epoch: [76/200] Train Loss: 0.8050, Train Accuracy: 0.9333, Validation Loss: 1.2439\n",
            "Epoch: [77/200] Train Loss: 0.7482, Train Accuracy: 0.9524, Validation Loss: 1.2357\n",
            "Epoch: [78/200] Train Loss: 0.7620, Train Accuracy: 0.9619, Validation Loss: 1.2279\n",
            "Epoch: [79/200] Train Loss: 0.7477, Train Accuracy: 0.9429, Validation Loss: 1.2201\n",
            "Epoch: [80/200] Train Loss: 0.7495, Train Accuracy: 0.9619, Validation Loss: 1.2122\n",
            "Epoch: [81/200] Train Loss: 0.7191, Train Accuracy: 0.9619, Validation Loss: 1.2042\n",
            "Epoch: [82/200] Train Loss: 0.7131, Train Accuracy: 0.9810, Validation Loss: 1.1964\n",
            "Epoch: [83/200] Train Loss: 0.7158, Train Accuracy: 0.9619, Validation Loss: 1.1887\n",
            "Epoch: [84/200] Train Loss: 0.7151, Train Accuracy: 0.9619, Validation Loss: 1.1812\n",
            "Epoch: [85/200] Train Loss: 0.7030, Train Accuracy: 0.9524, Validation Loss: 1.1740\n",
            "Epoch: [86/200] Train Loss: 0.6574, Train Accuracy: 0.9524, Validation Loss: 1.1673\n",
            "Epoch: [87/200] Train Loss: 0.7158, Train Accuracy: 0.9619, Validation Loss: 1.1609\n",
            "Epoch: [88/200] Train Loss: 0.6867, Train Accuracy: 0.9429, Validation Loss: 1.1547\n",
            "Epoch: [89/200] Train Loss: 0.6680, Train Accuracy: 0.9810, Validation Loss: 1.1488\n",
            "Epoch: [90/200] Train Loss: 0.6814, Train Accuracy: 0.9619, Validation Loss: 1.1428\n",
            "Epoch: [91/200] Train Loss: 0.6281, Train Accuracy: 0.9619, Validation Loss: 1.1370\n",
            "Epoch: [92/200] Train Loss: 0.6630, Train Accuracy: 0.9714, Validation Loss: 1.1320\n",
            "Epoch: [93/200] Train Loss: 0.6881, Train Accuracy: 0.9238, Validation Loss: 1.1274\n",
            "Epoch: [94/200] Train Loss: 0.6397, Train Accuracy: 0.9714, Validation Loss: 1.1226\n",
            "Epoch: [95/200] Train Loss: 0.5937, Train Accuracy: 0.9714, Validation Loss: 1.1176\n",
            "Epoch: [96/200] Train Loss: 0.6286, Train Accuracy: 0.9524, Validation Loss: 1.1122\n",
            "Epoch: [97/200] Train Loss: 0.6156, Train Accuracy: 0.9524, Validation Loss: 1.1067\n",
            "Epoch: [98/200] Train Loss: 0.6127, Train Accuracy: 0.9619, Validation Loss: 1.1014\n",
            "Epoch: [99/200] Train Loss: 0.6078, Train Accuracy: 0.9714, Validation Loss: 1.0954\n",
            "Epoch: [100/200] Train Loss: 0.5885, Train Accuracy: 0.9619, Validation Loss: 1.0897\n",
            "Epoch: [101/200] Train Loss: 0.5765, Train Accuracy: 0.9524, Validation Loss: 1.0841\n",
            "Epoch: [102/200] Train Loss: 0.5811, Train Accuracy: 0.9714, Validation Loss: 1.0790\n",
            "Epoch: [103/200] Train Loss: 0.5820, Train Accuracy: 0.9619, Validation Loss: 1.0740\n",
            "Epoch: [104/200] Train Loss: 0.5698, Train Accuracy: 0.9905, Validation Loss: 1.0696\n",
            "Epoch: [105/200] Train Loss: 0.5706, Train Accuracy: 0.9619, Validation Loss: 1.0655\n",
            "Epoch: [106/200] Train Loss: 0.5725, Train Accuracy: 0.9524, Validation Loss: 1.0615\n",
            "Epoch: [107/200] Train Loss: 0.5349, Train Accuracy: 0.9810, Validation Loss: 1.0576\n",
            "Epoch: [108/200] Train Loss: 0.5116, Train Accuracy: 0.9619, Validation Loss: 1.0535\n",
            "Epoch: [109/200] Train Loss: 0.5168, Train Accuracy: 0.9619, Validation Loss: 1.0491\n",
            "Epoch: [110/200] Train Loss: 0.5755, Train Accuracy: 0.9810, Validation Loss: 1.0448\n",
            "Epoch: [111/200] Train Loss: 0.5358, Train Accuracy: 0.9810, Validation Loss: 1.0406\n",
            "Epoch: [112/200] Train Loss: 0.5330, Train Accuracy: 0.9524, Validation Loss: 1.0362\n",
            "Epoch: [113/200] Train Loss: 0.5388, Train Accuracy: 0.9810, Validation Loss: 1.0314\n",
            "Epoch: [114/200] Train Loss: 0.5070, Train Accuracy: 0.9714, Validation Loss: 1.0270\n",
            "Epoch: [115/200] Train Loss: 0.4941, Train Accuracy: 0.9810, Validation Loss: 1.0228\n",
            "Epoch: [116/200] Train Loss: 0.4924, Train Accuracy: 1.0000, Validation Loss: 1.0190\n",
            "Epoch: [117/200] Train Loss: 0.4802, Train Accuracy: 0.9524, Validation Loss: 1.0156\n",
            "Epoch: [118/200] Train Loss: 0.4943, Train Accuracy: 0.9619, Validation Loss: 1.0124\n",
            "Epoch: [119/200] Train Loss: 0.4822, Train Accuracy: 0.9810, Validation Loss: 1.0094\n",
            "Epoch: [120/200] Train Loss: 0.5089, Train Accuracy: 0.9619, Validation Loss: 1.0068\n",
            "Epoch: [121/200] Train Loss: 0.4784, Train Accuracy: 0.9905, Validation Loss: 1.0043\n",
            "Epoch: [122/200] Train Loss: 0.4916, Train Accuracy: 0.9714, Validation Loss: 1.0021\n",
            "Epoch: [123/200] Train Loss: 0.4731, Train Accuracy: 0.9714, Validation Loss: 1.0003\n",
            "Epoch: [124/200] Train Loss: 0.5223, Train Accuracy: 0.9714, Validation Loss: 0.9986\n",
            "Epoch: [125/200] Train Loss: 0.4677, Train Accuracy: 0.9714, Validation Loss: 0.9961\n",
            "Epoch: [126/200] Train Loss: 0.4681, Train Accuracy: 0.9810, Validation Loss: 0.9929\n",
            "Epoch: [127/200] Train Loss: 0.4766, Train Accuracy: 0.9619, Validation Loss: 0.9901\n",
            "Epoch: [128/200] Train Loss: 0.4963, Train Accuracy: 0.9810, Validation Loss: 0.9878\n",
            "Epoch: [129/200] Train Loss: 0.4858, Train Accuracy: 0.9714, Validation Loss: 0.9854\n",
            "Epoch: [130/200] Train Loss: 0.4313, Train Accuracy: 0.9714, Validation Loss: 0.9828\n",
            "Epoch: [131/200] Train Loss: 0.4591, Train Accuracy: 0.9714, Validation Loss: 0.9806\n",
            "Epoch: [132/200] Train Loss: 0.4930, Train Accuracy: 0.9524, Validation Loss: 0.9783\n",
            "Epoch: [133/200] Train Loss: 0.4731, Train Accuracy: 0.9810, Validation Loss: 0.9755\n",
            "Epoch: [134/200] Train Loss: 0.4266, Train Accuracy: 0.9905, Validation Loss: 0.9731\n",
            "Epoch: [135/200] Train Loss: 0.4334, Train Accuracy: 1.0000, Validation Loss: 0.9706\n",
            "Epoch: [136/200] Train Loss: 0.4538, Train Accuracy: 0.9619, Validation Loss: 0.9682\n",
            "Epoch: [137/200] Train Loss: 0.4383, Train Accuracy: 0.9810, Validation Loss: 0.9651\n",
            "Epoch: [138/200] Train Loss: 0.4238, Train Accuracy: 0.9810, Validation Loss: 0.9618\n",
            "Epoch: [139/200] Train Loss: 0.4514, Train Accuracy: 0.9810, Validation Loss: 0.9580\n",
            "Epoch: [140/200] Train Loss: 0.4270, Train Accuracy: 0.9524, Validation Loss: 0.9554\n",
            "Epoch: [141/200] Train Loss: 0.4691, Train Accuracy: 0.9619, Validation Loss: 0.9533\n",
            "Epoch: [142/200] Train Loss: 0.3877, Train Accuracy: 0.9905, Validation Loss: 0.9515\n",
            "Epoch: [143/200] Train Loss: 0.4226, Train Accuracy: 0.9714, Validation Loss: 0.9500\n",
            "Epoch: [144/200] Train Loss: 0.4436, Train Accuracy: 0.9810, Validation Loss: 0.9484\n",
            "Epoch: [145/200] Train Loss: 0.4423, Train Accuracy: 0.9714, Validation Loss: 0.9472\n",
            "Epoch: [146/200] Train Loss: 0.4254, Train Accuracy: 0.9619, Validation Loss: 0.9458\n",
            "Epoch: [147/200] Train Loss: 0.4167, Train Accuracy: 0.9714, Validation Loss: 0.9443\n",
            "Epoch: [148/200] Train Loss: 0.4278, Train Accuracy: 0.9619, Validation Loss: 0.9427\n",
            "Epoch: [149/200] Train Loss: 0.4417, Train Accuracy: 0.9714, Validation Loss: 0.9411\n",
            "Epoch: [150/200] Train Loss: 0.4317, Train Accuracy: 0.9714, Validation Loss: 0.9399\n",
            "Epoch: [151/200] Train Loss: 0.4147, Train Accuracy: 0.9714, Validation Loss: 0.9386\n",
            "Epoch: [152/200] Train Loss: 0.3769, Train Accuracy: 0.9714, Validation Loss: 0.9379\n",
            "Epoch: [153/200] Train Loss: 0.4009, Train Accuracy: 0.9429, Validation Loss: 0.9370\n",
            "Epoch: [154/200] Train Loss: 0.4210, Train Accuracy: 0.9714, Validation Loss: 0.9352\n",
            "Epoch: [155/200] Train Loss: 0.3682, Train Accuracy: 0.9810, Validation Loss: 0.9332\n",
            "Epoch: [156/200] Train Loss: 0.4367, Train Accuracy: 0.9619, Validation Loss: 0.9308\n",
            "Epoch: [157/200] Train Loss: 0.3782, Train Accuracy: 0.9810, Validation Loss: 0.9285\n",
            "Epoch: [158/200] Train Loss: 0.4082, Train Accuracy: 0.9714, Validation Loss: 0.9261\n",
            "Epoch: [159/200] Train Loss: 0.4173, Train Accuracy: 0.9810, Validation Loss: 0.9238\n",
            "Epoch: [160/200] Train Loss: 0.3748, Train Accuracy: 0.9714, Validation Loss: 0.9213\n",
            "Epoch: [161/200] Train Loss: 0.3731, Train Accuracy: 0.9714, Validation Loss: 0.9193\n",
            "Epoch: [162/200] Train Loss: 0.3908, Train Accuracy: 0.9524, Validation Loss: 0.9183\n",
            "Epoch: [163/200] Train Loss: 0.4076, Train Accuracy: 0.9619, Validation Loss: 0.9177\n",
            "Epoch: [164/200] Train Loss: 0.3654, Train Accuracy: 0.9810, Validation Loss: 0.9172\n",
            "Epoch: [165/200] Train Loss: 0.3909, Train Accuracy: 0.9810, Validation Loss: 0.9167\n",
            "Epoch: [166/200] Train Loss: 0.4165, Train Accuracy: 0.9810, Validation Loss: 0.9158\n",
            "Epoch: [167/200] Train Loss: 0.4009, Train Accuracy: 0.9619, Validation Loss: 0.9150\n",
            "Epoch: [168/200] Train Loss: 0.3527, Train Accuracy: 0.9810, Validation Loss: 0.9146\n",
            "Epoch: [169/200] Train Loss: 0.3866, Train Accuracy: 0.9810, Validation Loss: 0.9136\n",
            "Epoch: [170/200] Train Loss: 0.3810, Train Accuracy: 0.9714, Validation Loss: 0.9119\n",
            "Epoch: [171/200] Train Loss: 0.3991, Train Accuracy: 0.9714, Validation Loss: 0.9104\n",
            "Epoch: [172/200] Train Loss: 0.4033, Train Accuracy: 0.9714, Validation Loss: 0.9091\n",
            "Epoch: [173/200] Train Loss: 0.3980, Train Accuracy: 0.9714, Validation Loss: 0.9079\n",
            "Epoch: [174/200] Train Loss: 0.3691, Train Accuracy: 0.9714, Validation Loss: 0.9068\n",
            "Epoch: [175/200] Train Loss: 0.3700, Train Accuracy: 0.9714, Validation Loss: 0.9056\n",
            "Epoch: [176/200] Train Loss: 0.3751, Train Accuracy: 0.9714, Validation Loss: 0.9045\n",
            "Epoch: [177/200] Train Loss: 0.3729, Train Accuracy: 0.9810, Validation Loss: 0.9036\n",
            "Epoch: [178/200] Train Loss: 0.3957, Train Accuracy: 0.9905, Validation Loss: 0.9028\n",
            "Epoch: [179/200] Train Loss: 0.3512, Train Accuracy: 0.9905, Validation Loss: 0.9020\n",
            "Epoch: [180/200] Train Loss: 0.3926, Train Accuracy: 0.9619, Validation Loss: 0.9017\n",
            "Epoch: [181/200] Train Loss: 0.3669, Train Accuracy: 0.9810, Validation Loss: 0.9005\n",
            "Epoch: [182/200] Train Loss: 0.3414, Train Accuracy: 0.9810, Validation Loss: 0.8993\n",
            "Epoch: [183/200] Train Loss: 0.3365, Train Accuracy: 0.9714, Validation Loss: 0.8977\n",
            "Epoch: [184/200] Train Loss: 0.3537, Train Accuracy: 0.9905, Validation Loss: 0.8961\n",
            "Epoch: [185/200] Train Loss: 0.3551, Train Accuracy: 0.9714, Validation Loss: 0.8939\n",
            "Epoch: [186/200] Train Loss: 0.3612, Train Accuracy: 0.9619, Validation Loss: 0.8920\n",
            "Epoch: [187/200] Train Loss: 0.3676, Train Accuracy: 0.9810, Validation Loss: 0.8900\n",
            "Epoch: [188/200] Train Loss: 0.3413, Train Accuracy: 0.9714, Validation Loss: 0.8885\n",
            "Epoch: [189/200] Train Loss: 0.3278, Train Accuracy: 0.9810, Validation Loss: 0.8872\n",
            "Epoch: [190/200] Train Loss: 0.3979, Train Accuracy: 0.9429, Validation Loss: 0.8866\n",
            "Epoch: [191/200] Train Loss: 0.3400, Train Accuracy: 0.9905, Validation Loss: 0.8869\n",
            "Epoch: [192/200] Train Loss: 0.3607, Train Accuracy: 0.9714, Validation Loss: 0.8870\n",
            "Epoch: [193/200] Train Loss: 0.3278, Train Accuracy: 0.9905, Validation Loss: 0.8873\n",
            "Epoch: [194/200] Train Loss: 0.3743, Train Accuracy: 0.9714, Validation Loss: 0.8875\n",
            "Epoch: [195/200] Train Loss: 0.3533, Train Accuracy: 0.9810, Validation Loss: 0.8874\n",
            "Epoch: [196/200] Train Loss: 0.3197, Train Accuracy: 0.9714, Validation Loss: 0.8870\n",
            "Epoch: [197/200] Train Loss: 0.3340, Train Accuracy: 0.9905, Validation Loss: 0.8865\n",
            "Epoch: [198/200] Train Loss: 0.3633, Train Accuracy: 0.9524, Validation Loss: 0.8856\n",
            "Epoch: [199/200] Train Loss: 0.2932, Train Accuracy: 0.9905, Validation Loss: 0.8841\n",
            "Epoch: [200/200] Train Loss: 0.3592, Train Accuracy: 0.9714, Validation Loss: 0.8827\n"
          ]
        }
      ]
    },
    {
      "cell_type": "code",
      "source": [
        "loss_eval, acc = evaluate(idx_val)\n",
        "print(f'Test Loss = {loss_eval}')\n",
        "print(f'Test Accuracy = {acc}')"
      ],
      "metadata": {
        "id": "gk22xogqcMwl",
        "colab": {
          "base_uri": "https://localhost:8080/"
        },
        "outputId": "c260beee-0e0d-40f2-9660-51e3ab3d1017"
      },
      "execution_count": null,
      "outputs": [
        {
          "output_type": "stream",
          "name": "stdout",
          "text": [
            "Test Loss = 0.8809847235679626\n",
            "Test Accuracy = 0.7863192182410423\n"
          ]
        }
      ]
    },
    {
      "cell_type": "code",
      "source": [
        "import matplotlib.pyplot as plt\n",
        "\n",
        "plt.plot(range(1,len(acc_train) + 1), acc_train, 'g', label='Train Accuracy')\n",
        "plt.plot(range(1,len(acc_val) + 1), acc_val, 'r', label='Validation Accuracy')\n",
        "plt.title('Accuracy vs Epoch')\n",
        "plt.xlabel('Epochs')\n",
        "plt.ylabel('Accuracy')\n",
        "plt.legend()\n",
        "plt.show()"
      ],
      "metadata": {
        "id": "vXlx-jKHh4kF",
        "colab": {
          "base_uri": "https://localhost:8080/",
          "height": 295
        },
        "outputId": "e29c3f21-e865-4847-ec30-1cb6bf09f80c"
      },
      "execution_count": null,
      "outputs": [
        {
          "output_type": "display_data",
          "data": {
            "text/plain": [
              "<Figure size 432x288 with 1 Axes>"
            ],
            "image/png": "[encoded data removed]"
          },
          "metadata": {
            "needs_background": "light"
          }
        }
      ]
    },
    {
      "cell_type": "code",
      "source": [
        "len(loss_train)"
      ],
      "metadata": {
        "id": "iAar8vadf-V9",
        "colab": {
          "base_uri": "https://localhost:8080/"
        },
        "outputId": "08539533-881e-4741-eee8-d2207bb61c14"
      },
      "execution_count": null,
      "outputs": [
        {
          "output_type": "execute_result",
          "data": {
            "text/plain": [
              "200"
            ]
          },
          "metadata": {},
          "execution_count": 29
        }
      ]
    },
    {
      "cell_type": "code",
      "source": [
        "plt.plot(range(1,len(loss_train) + 1), loss_train, 'g', label='Train Loss')\n",
        "plt.plot(range(1,len(loss_val) + 1), loss_val, 'b', label='Validation Loss')\n",
        "plt.title('Loss vs Epoch')\n",
        "plt.xlabel('Epochs')\n",
        "plt.ylabel('Loss')\n",
        "plt.legend()\n",
        "plt.show()"
      ],
      "metadata": {
        "id": "bjlL53JoFr_-",
        "colab": {
          "base_uri": "https://localhost:8080/",
          "height": 295
        },
        "outputId": "6929bb42-73d0-4e35-a032-f898c0d42a2a"
      },
      "execution_count": null,
      "outputs": [
        {
          "output_type": "display_data",
          "data": {
            "text/plain": [
              "<Figure size 432x288 with 1 Axes>"
            ],
            "image/png": "[encoded data removed]"
          },
          "metadata": {
            "needs_background": "light"
          }
        }
      ]
    },
    {
      "cell_type": "code",
      "source": [],
      "metadata": {
        "id": "UVDNXNEVt6AG"
      },
      "execution_count": null,
      "outputs": []
    }
  ],
  "metadata": {
    "colab": {
      "provenance": []
    },
    "gpuClass": "standard",
    "kernelspec": {
      "display_name": "Python 3",
      "name": "python3"
    },
    "language_info": {
      "name": "python"
    },
    "widgets": {
      "application/vnd.jupyter.widget-state+json": {
        "c9423bda79d046a58a26fcc2352715ef": {
          "model_module": "@jupyter-widgets/controls",
          "model_name": "HBoxModel",
          "model_module_version": "1.5.0",
          "state": {
            "_dom_classes": [],
            "_model_module": "@jupyter-widgets/controls",
            "_model_module_version": "1.5.0",
            "_model_name": "HBoxModel",
            "_view_count": null,
            "_view_module": "@jupyter-widgets/controls",
            "_view_module_version": "1.5.0",
            "_view_name": "HBoxView",
            "box_style": "",
            "children": [
              "IPY_MODEL_2e72427d7b86436eb2b66396cacdcea3",
              "IPY_MODEL_e05709fc22744abab52c7d52e0525667",
              "IPY_MODEL_89ca32580e6442b78502d6dace0bd9c6"
            ],
            "layout": "IPY_MODEL_e937ba4053674c02b738d95071c79eeb"
          }
        },
        "2e72427d7b86436eb2b66396cacdcea3": {
          "model_module": "@jupyter-widgets/controls",
          "model_name": "HTMLModel",
          "model_module_version": "1.5.0",
          "state": {
            "_dom_classes": [],
            "_model_module": "@jupyter-widgets/controls",
            "_model_module_version": "1.5.0",
            "_model_name": "HTMLModel",
            "_view_count": null,
            "_view_module": "@jupyter-widgets/controls",
            "_view_module_version": "1.5.0",
            "_view_name": "HTMLView",
            "description": "",
            "description_tooltip": null,
            "layout": "IPY_MODEL_0aa0aa34de0d4b56811b8b45627dff1a",
            "placeholder": "​",
            "style": "IPY_MODEL_f74b661bbdd74ce1a0bc6c2f41791ed1",
            "value": "100%"
          }
        },
        "e05709fc22744abab52c7d52e0525667": {
          "model_module": "@jupyter-widgets/controls",
          "model_name": "FloatProgressModel",
          "model_module_version": "1.5.0",
          "state": {
            "_dom_classes": [],
            "_model_module": "@jupyter-widgets/controls",
            "_model_module_version": "1.5.0",
            "_model_name": "FloatProgressModel",
            "_view_count": null,
            "_view_module": "@jupyter-widgets/controls",
            "_view_module_version": "1.5.0",
            "_view_name": "ProgressView",
            "bar_style": "success",
            "description": "",
            "description_tooltip": null,
            "layout": "IPY_MODEL_4514c73e8d7244e9882046676cf313cc",
            "max": 200,
            "min": 0,
            "orientation": "horizontal",
            "style": "IPY_MODEL_8dce2d98c20a4e46b95d3e89b760d7eb",
            "value": 200
          }
        },
        "89ca32580e6442b78502d6dace0bd9c6": {
          "model_module": "@jupyter-widgets/controls",
          "model_name": "HTMLModel",
          "model_module_version": "1.5.0",
          "state": {
            "_dom_classes": [],
            "_model_module": "@jupyter-widgets/controls",
            "_model_module_version": "1.5.0",
            "_model_name": "HTMLModel",
            "_view_count": null,
            "_view_module": "@jupyter-widgets/controls",
            "_view_module_version": "1.5.0",
            "_view_name": "HTMLView",
            "description": "",
            "description_tooltip": null,
            "layout": "IPY_MODEL_ed559e298be6405d97b036df97b6f47c",
            "placeholder": "​",
            "style": "IPY_MODEL_0cbef38737e94ec28d7b378f4c01e6b3",
            "value": " 200/200 [02:27&lt;00:00,  1.47it/s]"
          }
        },
        "e937ba4053674c02b738d95071c79eeb": {
          "model_module": "@jupyter-widgets/base",
          "model_name": "LayoutModel",
          "model_module_version": "1.2.0",
          "state": {
            "_model_module": "@jupyter-widgets/base",
            "_model_module_version": "1.2.0",
            "_model_name": "LayoutModel",
            "_view_count": null,
            "_view_module": "@jupyter-widgets/base",
            "_view_module_version": "1.2.0",
            "_view_name": "LayoutView",
            "align_content": null,
            "align_items": null,
            "align_self": null,
            "border": null,
            "bottom": null,
            "display": null,
            "flex": null,
            "flex_flow": null,
            "grid_area": null,
            "grid_auto_columns": null,
            "grid_auto_flow": null,
            "grid_auto_rows": null,
            "grid_column": null,
            "grid_gap": null,
            "grid_row": null,
            "grid_template_areas": null,
            "grid_template_columns": null,
            "grid_template_rows": null,
            "height": null,
            "justify_content": null,
            "justify_items": null,
            "left": null,
            "margin": null,
            "max_height": null,
            "max_width": null,
            "min_height": null,
            "min_width": null,
            "object_fit": null,
            "object_position": null,
            "order": null,
            "overflow": null,
            "overflow_x": null,
            "overflow_y": null,
            "padding": null,
            "right": null,
            "top": null,
            "visibility": null,
            "width": null
          }
        },
        "0aa0aa34de0d4b56811b8b45627dff1a": {
          "model_module": "@jupyter-widgets/base",
          "model_name": "LayoutModel",
          "model_module_version": "1.2.0",
          "state": {
            "_model_module": "@jupyter-widgets/base",
            "_model_module_version": "1.2.0",
            "_model_name": "LayoutModel",
            "_view_count": null,
            "_view_module": "@jupyter-widgets/base",
            "_view_module_version": "1.2.0",
            "_view_name": "LayoutView",
            "align_content": null,
            "align_items": null,
            "align_self": null,
            "border": null,
            "bottom": null,
            "display": null,
            "flex": null,
            "flex_flow": null,
            "grid_area": null,
            "grid_auto_columns": null,
            "grid_auto_flow": null,
            "grid_auto_rows": null,
            "grid_column": null,
            "grid_gap": null,
            "grid_row": null,
            "grid_template_areas": null,
            "grid_template_columns": null,
            "grid_template_rows": null,
            "height": null,
            "justify_content": null,
            "justify_items": null,
            "left": null,
            "margin": null,
            "max_height": null,
            "max_width": null,
            "min_height": null,
            "min_width": null,
            "object_fit": null,
            "object_position": null,
            "order": null,
            "overflow": null,
            "overflow_x": null,
            "overflow_y": null,
            "padding": null,
            "right": null,
            "top": null,
            "visibility": null,
            "width": null
          }
        },
        "f74b661bbdd74ce1a0bc6c2f41791ed1": {
          "model_module": "@jupyter-widgets/controls",
          "model_name": "DescriptionStyleModel",
          "model_module_version": "1.5.0",
          "state": {
            "_model_module": "@jupyter-widgets/controls",
            "_model_module_version": "1.5.0",
            "_model_name": "DescriptionStyleModel",
            "_view_count": null,
            "_view_module": "@jupyter-widgets/base",
            "_view_module_version": "1.2.0",
            "_view_name": "StyleView",
            "description_width": ""
          }
        },
        "4514c73e8d7244e9882046676cf313cc": {
          "model_module": "@jupyter-widgets/base",
          "model_name": "LayoutModel",
          "model_module_version": "1.2.0",
          "state": {
            "_model_module": "@jupyter-widgets/base",
            "_model_module_version": "1.2.0",
            "_model_name": "LayoutModel",
            "_view_count": null,
            "_view_module": "@jupyter-widgets/base",
            "_view_module_version": "1.2.0",
            "_view_name": "LayoutView",
            "align_content": null,
            "align_items": null,
            "align_self": null,
            "border": null,
            "bottom": null,
            "display": null,
            "flex": null,
            "flex_flow": null,
            "grid_area": null,
            "grid_auto_columns": null,
            "grid_auto_flow": null,
            "grid_auto_rows": null,
            "grid_column": null,
            "grid_gap": null,
            "grid_row": null,
            "grid_template_areas": null,
            "grid_template_columns": null,
            "grid_template_rows": null,
            "height": null,
            "justify_content": null,
            "justify_items": null,
            "left": null,
            "margin": null,
            "max_height": null,
            "max_width": null,
            "min_height": null,
            "min_width": null,
            "object_fit": null,
            "object_position": null,
            "order": null,
            "overflow": null,
            "overflow_x": null,
            "overflow_y": null,
            "padding": null,
            "right": null,
            "top": null,
            "visibility": null,
            "width": null
          }
        },
        "8dce2d98c20a4e46b95d3e89b760d7eb": {
          "model_module": "@jupyter-widgets/controls",
          "model_name": "ProgressStyleModel",
          "model_module_version": "1.5.0",
          "state": {
            "_model_module": "@jupyter-widgets/controls",
            "_model_module_version": "1.5.0",
            "_model_name": "ProgressStyleModel",
            "_view_count": null,
            "_view_module": "@jupyter-widgets/base",
            "_view_module_version": "1.2.0",
            "_view_name": "StyleView",
            "bar_color": null,
            "description_width": ""
          }
        },
        "ed559e298be6405d97b036df97b6f47c": {
          "model_module": "@jupyter-widgets/base",
          "model_name": "LayoutModel",
          "model_module_version": "1.2.0",
          "state": {
            "_model_module": "@jupyter-widgets/base",
            "_model_module_version": "1.2.0",
            "_model_name": "LayoutModel",
            "_view_count": null,
            "_view_module": "@jupyter-widgets/base",
            "_view_module_version": "1.2.0",
            "_view_name": "LayoutView",
            "align_content": null,
            "align_items": null,
            "align_self": null,
            "border": null,
            "bottom": null,
            "display": null,
            "flex": null,
            "flex_flow": null,
            "grid_area": null,
            "grid_auto_columns": null,
            "grid_auto_flow": null,
            "grid_auto_rows": null,
            "grid_column": null,
            "grid_gap": null,
            "grid_row": null,
            "grid_template_areas": null,
            "grid_template_columns": null,
            "grid_template_rows": null,
            "height": null,
            "justify_content": null,
            "justify_items": null,
            "left": null,
            "margin": null,
            "max_height": null,
            "max_width": null,
            "min_height": null,
            "min_width": null,
            "object_fit": null,
            "object_position": null,
            "order": null,
            "overflow": null,
            "overflow_x": null,
            "overflow_y": null,
            "padding": null,
            "right": null,
            "top": null,
            "visibility": null,
            "width": null
          }
        },
        "0cbef38737e94ec28d7b378f4c01e6b3": {
          "model_module": "@jupyter-widgets/controls",
          "model_name": "DescriptionStyleModel",
          "model_module_version": "1.5.0",
          "state": {
            "_model_module": "@jupyter-widgets/controls",
            "_model_module_version": "1.5.0",
            "_model_name": "DescriptionStyleModel",
            "_view_count": null,
            "_view_module": "@jupyter-widgets/base",
            "_view_module_version": "1.2.0",
            "_view_name": "StyleView",
            "description_width": ""
          }
        }
      }
    }
  },
  "nbformat": 4,
  "nbformat_minor": 0
}
